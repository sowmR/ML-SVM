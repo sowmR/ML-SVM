{
  "nbformat": 4,
  "nbformat_minor": 0,
  "metadata": {
    "colab": {
      "name": "Untitled0.ipynb",
      "provenance": [],
      "authorship_tag": "ABX9TyPJmQFpUQ7OhkoqYQyZSKee",
      "include_colab_link": true
    },
    "kernelspec": {
      "name": "python3",
      "display_name": "Python 3"
    },
    "language_info": {
      "name": "python"
    }
  },
  "cells": [
    {
      "cell_type": "markdown",
      "metadata": {
        "id": "view-in-github",
        "colab_type": "text"
      },
      "source": [
        "<a href=\"https://colab.research.google.com/github/sowmR/ML-SVM/blob/main/SVM-python.ipynb\" target=\"_parent\"><img src=\"https://colab.research.google.com/assets/colab-badge.svg\" alt=\"Open In Colab\"/></a>"
      ]
    },
    {
      "cell_type": "code",
      "execution_count": 2,
      "metadata": {
        "id": "u2FmCUzRmnzZ"
      },
      "outputs": [],
      "source": [
        "import pandas as pd\n",
        "import numpy as np\n",
        "import matplotlib.pyplot as plt"
      ]
    },
    {
      "cell_type": "code",
      "source": [
        "# use the following code to upload the breastcancer data file\n",
        "# the csv data can be downloaded from https://archive.ics.uci.edu/ml/machine-learning-databases/breast-cancer/\n",
        "from google.colab import files\n",
        "\n",
        "files.upload()"
      ],
      "metadata": {
        "id": "dOx0NKlEyLvN",
        "outputId": "8c6de0ce-f3bb-49b9-b97e-170b8e20ff09",
        "colab": {
          "resources": {
            "http://localhost:8080/nbextensions/google.colab/files.js": {
              "data": "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",
              "ok": true,
              "headers": [
                [
                  "content-type",
                  "application/javascript"
                ]
              ],
              "status": 200,
              "status_text": ""
            }
          },
          "base_uri": "https://localhost:8080/",
          "height": 110
        }
      },
      "execution_count": 8,
      "outputs": [
        {
          "output_type": "display_data",
          "data": {
            "text/html": [
              "\n",
              "     <input type=\"file\" id=\"files-a647fd77-fb57-4c3c-b1b6-ff80d5278bd0\" name=\"files[]\" multiple disabled\n",
              "        style=\"border:none\" />\n",
              "     <output id=\"result-a647fd77-fb57-4c3c-b1b6-ff80d5278bd0\">\n",
              "      Upload widget is only available when the cell has been executed in the\n",
              "      current browser session. Please rerun this cell to enable.\n",
              "      </output>\n",
              "      <script src=\"/nbextensions/google.colab/files.js\"></script> "
            ],
            "text/plain": [
              "<IPython.core.display.HTML object>"
            ]
          },
          "metadata": {}
        },
        {
          "output_type": "stream",
          "name": "stdout",
          "text": [
            "Saving breast-cancer.data to breast-cancer.data\n"
          ]
        },
        {
          "output_type": "execute_result",
          "data": {
            "text/plain": [
              "{'breast-cancer.data': b'Class,age,menopause,tumor-size,inv-nodes,node-caps,deg-malig,breast,breast-quad,irradiat\\nno-recurrence-events,30-39,premeno,30-34,0-2,no,3,left,left_low,no\\nno-recurrence-events,40-49,premeno,20-24,0-2,no,2,right,right_up,no\\nno-recurrence-events,40-49,premeno,20-24,0-2,no,2,left,left_low,no\\nno-recurrence-events,60-69,ge40,15-19,0-2,no,2,right,left_up,no\\nno-recurrence-events,40-49,premeno,0-4,0-2,no,2,right,right_low,no\\nno-recurrence-events,60-69,ge40,15-19,0-2,no,2,left,left_low,no\\nno-recurrence-events,50-59,premeno,25-29,0-2,no,2,left,left_low,no\\nno-recurrence-events,60-69,ge40,20-24,0-2,no,1,left,left_low,no\\nno-recurrence-events,40-49,premeno,50-54,0-2,no,2,left,left_low,no\\nno-recurrence-events,40-49,premeno,20-24,0-2,no,2,right,left_up,no\\nno-recurrence-events,40-49,premeno,0-4,0-2,no,3,left,central,no\\nno-recurrence-events,50-59,ge40,25-29,0-2,no,2,left,left_low,no\\nno-recurrence-events,60-69,lt40,10-14,0-2,no,1,left,right_up,no\\nno-recurrence-events,50-59,ge40,25-29,0-2,no,3,left,right_up,no\\nno-recurrence-events,40-49,premeno,30-34,0-2,no,3,left,left_up,no\\nno-recurrence-events,60-69,lt40,30-34,0-2,no,1,left,left_low,no\\nno-recurrence-events,40-49,premeno,15-19,0-2,no,2,left,left_low,no\\nno-recurrence-events,50-59,premeno,30-34,0-2,no,3,left,left_low,no\\nno-recurrence-events,60-69,ge40,30-34,0-2,no,3,left,left_low,no\\nno-recurrence-events,50-59,ge40,30-34,0-2,no,1,right,right_up,no\\nno-recurrence-events,50-59,ge40,40-44,0-2,no,2,left,left_low,no\\nno-recurrence-events,60-69,ge40,15-19,0-2,no,2,left,left_low,no\\nno-recurrence-events,30-39,premeno,25-29,0-2,no,2,right,left_low,no\\nno-recurrence-events,50-59,premeno,40-44,0-2,no,2,left,left_up,no\\nno-recurrence-events,50-59,premeno,35-39,0-2,no,2,right,left_up,no\\nno-recurrence-events,40-49,premeno,25-29,0-2,no,2,left,left_up,no\\nno-recurrence-events,50-59,premeno,20-24,0-2,no,1,left,left_low,no\\nno-recurrence-events,60-69,ge40,25-29,0-2,no,3,right,left_up,no\\nno-recurrence-events,40-49,premeno,40-44,0-2,no,2,right,left_low,no\\nno-recurrence-events,60-69,ge40,30-34,0-2,no,2,left,left_low,no\\nno-recurrence-events,50-59,ge40,40-44,0-2,no,3,right,left_up,no\\nno-recurrence-events,50-59,premeno,15-19,0-2,no,2,right,left_low,no\\nno-recurrence-events,50-59,premeno,10-14,0-2,no,3,left,left_low,no\\nno-recurrence-events,50-59,ge40,10-14,0-2,no,1,right,left_up,no\\nno-recurrence-events,50-59,ge40,10-14,0-2,no,1,left,left_up,no\\nno-recurrence-events,30-39,premeno,30-34,0-2,no,2,left,left_up,no\\nno-recurrence-events,50-59,ge40,0-4,0-2,no,2,left,central,no\\nno-recurrence-events,50-59,ge40,15-19,0-2,no,1,right,central,no\\nno-recurrence-events,40-49,premeno,10-14,0-2,no,2,left,left_low,no\\nno-recurrence-events,40-49,premeno,30-34,0-2,no,1,left,left_low,no\\nno-recurrence-events,50-59,ge40,20-24,0-2,no,1,right,left_low,no\\nno-recurrence-events,60-69,ge40,25-29,0-2,no,2,left,left_low,no\\nno-recurrence-events,60-69,ge40,5-9,0-2,no,1,left,central,no\\nno-recurrence-events,40-49,premeno,10-14,0-2,no,2,left,left_up,no\\nno-recurrence-events,50-59,ge40,50-54,0-2,no,1,right,right_up,no\\nno-recurrence-events,50-59,ge40,30-34,0-2,no,1,left,left_up,no\\nno-recurrence-events,40-49,premeno,25-29,0-2,no,2,right,left_low,no\\nno-recurrence-events,50-59,premeno,25-29,0-2,no,1,right,left_up,no\\nno-recurrence-events,40-49,premeno,20-24,0-2,no,1,right,right_up,no\\nno-recurrence-events,40-49,premeno,20-24,0-2,no,1,right,left_low,no\\nno-recurrence-events,50-59,lt40,15-19,0-2,no,2,left,left_low,no\\nno-recurrence-events,30-39,premeno,20-24,0-2,no,2,left,right_low,no\\nno-recurrence-events,50-59,premeno,15-19,0-2,no,1,left,left_low,no\\nno-recurrence-events,70-79,ge40,20-24,0-2,no,3,left,left_up,no\\nno-recurrence-events,70-79,ge40,40-44,0-2,no,1,right,left_up,no\\nno-recurrence-events,70-79,ge40,40-44,0-2,no,1,right,right_up,no\\nno-recurrence-events,50-59,ge40,0-4,0-2,no,1,right,central,no\\nno-recurrence-events,50-59,ge40,5-9,0-2,no,2,right,right_up,no\\nno-recurrence-events,60-69,ge40,30-34,0-2,no,1,left,left_up,no\\nno-recurrence-events,60-69,ge40,15-19,0-2,no,1,right,left_up,no\\nno-recurrence-events,40-49,premeno,20-24,0-2,no,2,left,central,no\\nno-recurrence-events,40-49,premeno,10-14,0-2,no,1,right,right_low,no\\nno-recurrence-events,50-59,ge40,0-4,0-2,no,1,left,left_low,no\\nno-recurrence-events,20-29,premeno,35-39,0-2,no,2,right,right_up,no\\nno-recurrence-events,40-49,premeno,25-29,0-2,no,1,left,right_low,no\\nno-recurrence-events,40-49,premeno,10-14,0-2,no,1,right,left_up,no\\nno-recurrence-events,40-49,premeno,25-29,0-2,no,1,right,right_low,no\\nno-recurrence-events,50-59,ge40,20-24,0-2,no,3,left,left_up,no\\nno-recurrence-events,50-59,ge40,35-39,0-2,no,3,left,left_low,no\\nno-recurrence-events,60-69,ge40,50-54,0-2,no,2,left,left_low,no\\nno-recurrence-events,60-69,ge40,10-14,0-2,no,1,left,left_low,no\\nno-recurrence-events,40-49,premeno,25-29,0-2,no,2,right,left_up,no\\nno-recurrence-events,60-69,ge40,20-24,0-2,no,2,left,left_up,no\\nno-recurrence-events,50-59,premeno,15-19,0-2,no,2,right,right_low,no\\nno-recurrence-events,30-39,premeno,5-9,0-2,no,2,left,right_low,no\\nno-recurrence-events,50-59,ge40,10-14,0-2,no,1,left,left_low,no\\nno-recurrence-events,50-59,ge40,10-14,0-2,no,2,left,left_low,no\\nno-recurrence-events,30-39,premeno,25-29,0-2,no,1,left,central,no\\nno-recurrence-events,50-59,premeno,25-29,0-2,no,2,left,left_low,no\\nno-recurrence-events,40-49,premeno,25-29,0-2,no,2,right,central,no\\nno-recurrence-events,50-59,ge40,10-14,0-2,no,2,right,left_low,no\\nno-recurrence-events,60-69,ge40,10-14,0-2,no,1,left,left_up,no\\nno-recurrence-events,60-69,ge40,15-19,0-2,no,2,right,left_low,no\\nno-recurrence-events,50-59,ge40,15-19,0-2,no,2,right,left_low,no\\nno-recurrence-events,40-49,premeno,20-24,0-2,no,1,left,right_low,no\\nno-recurrence-events,50-59,ge40,35-39,0-2,no,3,left,left_up,no\\nno-recurrence-events,60-69,ge40,25-29,0-2,no,2,right,left_low,no\\nno-recurrence-events,70-79,ge40,0-4,0-2,no,1,left,right_low,no\\nno-recurrence-events,50-59,ge40,20-24,0-2,no,3,right,left_up,no\\nno-recurrence-events,40-49,premeno,40-44,0-2,no,1,right,left_up,no\\nno-recurrence-events,30-39,premeno,0-4,0-2,no,2,right,central,no\\nno-recurrence-events,50-59,ge40,20-24,0-2,no,3,left,left_up,no\\nno-recurrence-events,50-59,ge40,25-29,0-2,no,2,right,left_up,no\\nno-recurrence-events,60-69,ge40,20-24,0-2,no,2,right,left_up,no\\nno-recurrence-events,50-59,premeno,10-14,0-2,no,1,left,left_low,no\\nno-recurrence-events,40-49,premeno,30-34,0-2,no,2,right,right_low,no\\nno-recurrence-events,60-69,ge40,30-34,0-2,no,2,left,left_up,no\\nno-recurrence-events,60-69,ge40,15-19,0-2,no,2,right,left_up,no\\nno-recurrence-events,40-49,premeno,30-34,0-2,no,1,left,right_up,no\\nno-recurrence-events,30-39,premeno,25-29,0-2,no,2,left,left_low,no\\nno-recurrence-events,40-49,ge40,20-24,0-2,no,3,left,left_low,no\\nno-recurrence-events,50-59,ge40,30-34,0-2,no,3,right,left_low,no\\nno-recurrence-events,50-59,premeno,25-29,0-2,no,2,right,right_low,no\\nno-recurrence-events,40-49,premeno,20-24,0-2,no,2,left,right_low,no\\nno-recurrence-events,40-49,premeno,10-14,0-2,no,2,right,left_low,no\\nno-recurrence-events,40-49,premeno,30-34,0-2,no,1,right,left_up,no\\nno-recurrence-events,40-49,premeno,20-24,0-2,no,2,left,left_up,no\\nno-recurrence-events,30-39,premeno,40-44,0-2,no,2,right,right_up,no\\nno-recurrence-events,40-49,premeno,30-34,0-2,no,3,right,right_up,no\\nno-recurrence-events,60-69,ge40,30-34,0-2,no,1,right,left_up,no\\nno-recurrence-events,50-59,ge40,25-29,0-2,no,1,left,left_low,no\\nno-recurrence-events,50-59,ge40,15-19,0-2,no,1,right,central,no\\nno-recurrence-events,40-49,premeno,20-24,0-2,no,2,right,left_up,no\\nno-recurrence-events,40-49,premeno,10-14,0-2,no,1,right,left_up,no\\nno-recurrence-events,40-49,premeno,35-39,0-2,no,2,right,right_up,no\\nno-recurrence-events,50-59,ge40,20-24,0-2,no,2,right,left_up,no\\nno-recurrence-events,30-39,premeno,15-19,0-2,no,1,left,left_low,no\\nno-recurrence-events,40-49,ge40,20-24,0-2,no,3,left,left_up,no\\nno-recurrence-events,30-39,premeno,10-14,0-2,no,1,right,left_low,no\\nno-recurrence-events,60-69,ge40,15-19,0-2,no,1,left,right_low,no\\nno-recurrence-events,60-69,ge40,20-24,0-2,no,1,left,left_low,no\\nno-recurrence-events,50-59,ge40,15-19,0-2,no,2,right,right_up,no\\nno-recurrence-events,50-59,ge40,40-44,0-2,no,3,left,left_up,no\\nno-recurrence-events,50-59,ge40,30-34,0-2,no,1,right,left_low,no\\nno-recurrence-events,60-69,ge40,10-14,0-2,no,1,right,left_low,no\\nno-recurrence-events,70-79,ge40,10-14,0-2,no,2,left,central,no\\nno-recurrence-events,30-39,premeno,30-34,6-8,yes,2,right,right_up,no\\nno-recurrence-events,30-39,premeno,25-29,6-8,yes,2,right,left_up,yes\\nno-recurrence-events,50-59,premeno,25-29,0-2,yes,2,left,left_up,no\\nno-recurrence-events,40-49,premeno,35-39,9-11,yes,2,right,left_up,yes\\nno-recurrence-events,40-49,premeno,35-39,9-11,yes,2,right,right_up,yes\\nno-recurrence-events,40-49,premeno,40-44,3-5,yes,3,right,left_up,yes\\nno-recurrence-events,40-49,premeno,30-34,6-8,no,2,left,left_up,no\\nno-recurrence-events,50-59,ge40,40-44,0-2,no,3,left,right_up,no\\nno-recurrence-events,60-69,ge40,30-34,0-2,no,2,left,left_low,yes\\nno-recurrence-events,30-39,premeno,20-24,3-5,no,2,right,central,no\\nno-recurrence-events,30-39,premeno,40-44,3-5,no,3,right,right_up,yes\\nno-recurrence-events,40-49,premeno,5-9,0-2,no,1,left,left_low,yes\\nno-recurrence-events,30-39,premeno,40-44,0-2,no,2,left,left_low,yes\\nno-recurrence-events,40-49,premeno,30-34,0-2,no,2,left,right_low,no\\nno-recurrence-events,50-59,ge40,40-44,3-5,yes,2,left,left_low,no\\nno-recurrence-events,50-59,premeno,20-24,3-5,yes,2,left,left_low,no\\nno-recurrence-events,60-69,ge40,10-14,0-2,no,1,left,left_up,no\\nno-recurrence-events,40-49,premeno,45-49,0-2,no,2,left,left_low,yes\\nno-recurrence-events,60-69,ge40,45-49,6-8,yes,3,left,central,no\\nno-recurrence-events,40-49,premeno,25-29,0-2,?,2,left,right_low,yes\\nno-recurrence-events,60-69,ge40,50-54,0-2,no,2,right,left_up,yes\\nno-recurrence-events,50-59,premeno,30-34,3-5,yes,2,left,left_low,yes\\nno-recurrence-events,30-39,premeno,20-24,0-2,no,3,left,central,no\\nno-recurrence-events,50-59,lt40,30-34,0-2,no,3,right,left_up,no\\nno-recurrence-events,50-59,ge40,25-29,15-17,yes,3,right,left_up,no\\nno-recurrence-events,60-69,ge40,30-34,3-5,yes,3,left,left_low,no\\nno-recurrence-events,50-59,ge40,35-39,15-17,no,3,left,left_low,no\\nno-recurrence-events,60-69,ge40,15-19,0-2,no,3,right,left_up,yes\\nno-recurrence-events,30-39,lt40,15-19,0-2,no,3,right,left_up,no\\nno-recurrence-events,60-69,ge40,40-44,3-5,no,2,right,left_up,yes\\nno-recurrence-events,50-59,ge40,25-29,3-5,yes,3,right,left_up,no\\nno-recurrence-events,50-59,premeno,30-34,0-2,no,1,left,central,no\\nno-recurrence-events,50-59,ge40,30-34,0-2,no,1,right,central,no\\nno-recurrence-events,40-49,premeno,35-39,0-2,no,1,left,left_low,no\\nno-recurrence-events,40-49,premeno,25-29,0-2,no,3,right,left_up,yes\\nno-recurrence-events,40-49,premeno,30-34,3-5,yes,2,right,left_low,no\\nno-recurrence-events,60-69,ge40,10-14,0-2,no,2,right,left_up,yes\\nno-recurrence-events,60-69,ge40,25-29,3-5,?,1,right,left_up,yes\\nno-recurrence-events,60-69,ge40,25-29,3-5,?,1,right,left_low,yes\\nno-recurrence-events,40-49,premeno,20-24,3-5,no,2,right,left_up,no\\nno-recurrence-events,40-49,premeno,20-24,3-5,no,2,right,left_low,no\\nno-recurrence-events,40-49,ge40,40-44,15-17,yes,2,right,left_up,yes\\nno-recurrence-events,50-59,premeno,10-14,0-2,no,2,right,left_up,no\\nno-recurrence-events,40-49,ge40,30-34,0-2,no,2,left,left_up,yes\\nno-recurrence-events,30-39,premeno,20-24,3-5,yes,2,right,left_up,yes\\nno-recurrence-events,30-39,premeno,15-19,0-2,no,1,left,left_low,no\\nno-recurrence-events,60-69,ge40,30-34,6-8,yes,2,right,right_up,no\\nno-recurrence-events,50-59,ge40,20-24,3-5,yes,2,right,left_up,no\\nno-recurrence-events,50-59,premeno,25-29,3-5,yes,2,left,left_low,yes\\nno-recurrence-events,40-49,premeno,30-34,0-2,no,2,right,right_up,yes\\nno-recurrence-events,40-49,ge40,25-29,0-2,no,2,left,left_low,no\\nno-recurrence-events,60-69,ge40,10-14,0-2,no,2,left,left_low,no\\nno-recurrence-events,50-59,premeno,25-29,3-5,no,2,right,left_up,yes\\nno-recurrence-events,40-49,premeno,20-24,0-2,no,3,right,left_low,yes\\nno-recurrence-events,40-49,premeno,35-39,0-2,yes,3,right,left_up,yes\\nno-recurrence-events,40-49,premeno,35-39,0-2,yes,3,right,left_low,yes\\nno-recurrence-events,40-49,premeno,25-29,0-2,no,1,right,left_low,yes\\nno-recurrence-events,50-59,ge40,30-34,9-11,?,3,left,left_up,yes\\nno-recurrence-events,50-59,ge40,30-34,9-11,?,3,left,left_low,yes\\nno-recurrence-events,40-49,premeno,20-24,6-8,no,2,right,left_low,yes\\nno-recurrence-events,50-59,ge40,25-29,0-2,no,1,left,right_low,no\\nno-recurrence-events,60-69,ge40,15-19,0-2,no,2,left,left_up,yes\\nno-recurrence-events,40-49,premeno,10-14,0-2,no,2,right,left_up,no\\nno-recurrence-events,50-59,ge40,20-24,0-2,yes,2,right,left_up,no\\nno-recurrence-events,40-49,premeno,15-19,12-14,no,3,right,right_low,yes\\nno-recurrence-events,40-49,premeno,25-29,0-2,no,2,left,left_up,yes\\nno-recurrence-events,50-59,ge40,30-34,6-8,yes,2,left,left_low,no\\nno-recurrence-events,30-39,premeno,10-14,0-2,no,2,left,right_low,no\\nno-recurrence-events,50-59,premeno,50-54,0-2,yes,2,right,left_up,yes\\nno-recurrence-events,50-59,ge40,35-39,0-2,no,2,left,left_up,no\\nno-recurrence-events,50-59,premeno,10-14,3-5,no,1,right,left_up,no\\nno-recurrence-events,40-49,premeno,10-14,0-2,no,2,left,left_low,yes\\nno-recurrence-events,50-59,ge40,15-19,0-2,yes,2,left,central,yes\\nno-recurrence-events,50-59,premeno,25-29,0-2,no,1,left,left_low,no\\nno-recurrence-events,60-69,ge40,25-29,0-2,no,3,right,left_low,no\\nrecurrence-events,50-59,premeno,15-19,0-2,no,2,left,left_low,no\\nrecurrence-events,40-49,premeno,40-44,0-2,no,1,left,left_low,no\\nrecurrence-events,50-59,ge40,35-39,0-2,no,2,left,left_low,no\\nrecurrence-events,50-59,premeno,25-29,0-2,no,2,left,right_up,no\\nrecurrence-events,30-39,premeno,0-4,0-2,no,2,right,central,no\\nrecurrence-events,50-59,ge40,30-34,0-2,no,3,left,?,no\\nrecurrence-events,50-59,premeno,25-29,0-2,no,2,left,right_up,no\\nrecurrence-events,50-59,premeno,30-34,0-2,no,3,left,right_up,no\\nrecurrence-events,40-49,premeno,35-39,0-2,no,1,right,left_up,no\\nrecurrence-events,40-49,premeno,20-24,0-2,no,2,left,left_low,no\\nrecurrence-events,50-59,ge40,20-24,0-2,no,2,right,central,no\\nrecurrence-events,40-49,premeno,30-34,0-2,no,3,right,right_up,no\\nrecurrence-events,50-59,premeno,25-29,0-2,no,1,right,left_up,no\\nrecurrence-events,60-69,ge40,40-44,0-2,no,2,right,left_low,no\\nrecurrence-events,40-49,ge40,20-24,0-2,no,2,right,left_up,no\\nrecurrence-events,50-59,ge40,20-24,0-2,no,2,left,left_up,no\\nrecurrence-events,40-49,premeno,15-19,0-2,no,2,left,left_up,no\\nrecurrence-events,60-69,ge40,30-34,0-2,no,3,right,central,no\\nrecurrence-events,30-39,premeno,15-19,0-2,no,1,right,left_low,no\\nrecurrence-events,40-49,premeno,25-29,0-2,no,3,left,right_up,no\\nrecurrence-events,30-39,premeno,30-34,0-2,no,1,right,left_up,no\\nrecurrence-events,60-69,ge40,25-29,0-2,no,3,left,right_low,yes\\nrecurrence-events,60-69,ge40,20-24,0-2,no,3,right,left_low,no\\nrecurrence-events,30-39,premeno,25-29,3-5,yes,3,left,left_low,yes\\nrecurrence-events,40-49,ge40,20-24,3-5,no,3,right,left_low,yes\\nrecurrence-events,40-49,premeno,30-34,15-17,yes,3,left,left_low,no\\nrecurrence-events,50-59,premeno,30-34,0-2,no,3,right,left_up,yes\\nrecurrence-events,60-69,ge40,40-44,3-5,yes,3,right,left_low,no\\nrecurrence-events,60-69,ge40,45-49,0-2,no,1,right,right_up,yes\\nrecurrence-events,50-59,premeno,50-54,9-11,yes,2,right,left_up,no\\nrecurrence-events,40-49,premeno,30-34,3-5,no,2,right,left_up,no\\nrecurrence-events,30-39,premeno,30-34,3-5,no,3,right,left_up,yes\\nrecurrence-events,70-79,ge40,15-19,9-11,?,1,left,left_low,yes\\nrecurrence-events,60-69,ge40,30-34,0-2,no,3,right,left_up,yes\\nrecurrence-events,50-59,premeno,25-29,3-5,yes,3,left,left_low,yes\\nrecurrence-events,40-49,premeno,25-29,0-2,no,2,right,left_low,no\\nrecurrence-events,40-49,premeno,25-29,0-2,no,2,right,left_low,no\\nrecurrence-events,30-39,premeno,35-39,0-2,no,3,left,left_low,no\\nrecurrence-events,40-49,premeno,20-24,3-5,yes,2,right,right_up,yes\\nrecurrence-events,60-69,ge40,20-24,3-5,no,2,left,left_low,yes\\nrecurrence-events,40-49,premeno,15-19,15-17,yes,3,left,left_low,no\\nrecurrence-events,50-59,ge40,25-29,6-8,no,3,left,left_low,yes\\nrecurrence-events,50-59,ge40,20-24,3-5,yes,3,right,right_up,no\\nrecurrence-events,40-49,premeno,30-34,12-14,yes,3,left,left_up,yes\\nrecurrence-events,30-39,premeno,30-34,9-11,no,2,right,left_up,yes\\nrecurrence-events,30-39,premeno,15-19,6-8,yes,3,left,left_low,yes\\nrecurrence-events,50-59,ge40,30-34,9-11,yes,3,left,right_low,yes\\nrecurrence-events,60-69,ge40,35-39,6-8,yes,3,left,left_low,no\\nrecurrence-events,30-39,premeno,20-24,3-5,yes,2,left,left_low,no\\nrecurrence-events,40-49,premeno,25-29,0-2,no,3,left,left_up,no\\nrecurrence-events,40-49,premeno,50-54,0-2,no,2,right,left_low,yes\\nrecurrence-events,30-39,premeno,40-44,0-2,no,1,left,left_up,no\\nrecurrence-events,60-69,ge40,50-54,0-2,no,3,right,left_up,no\\nrecurrence-events,40-49,premeno,30-34,0-2,yes,3,right,right_up,no\\nrecurrence-events,40-49,premeno,30-34,6-8,yes,3,right,left_up,no\\nrecurrence-events,40-49,premeno,30-34,0-2,no,1,left,left_low,yes\\nrecurrence-events,40-49,premeno,20-24,3-5,yes,2,left,left_low,yes\\nrecurrence-events,50-59,ge40,30-34,6-8,yes,2,left,right_low,yes\\nrecurrence-events,50-59,ge40,30-34,3-5,no,3,right,left_up,no\\nrecurrence-events,60-69,ge40,25-29,3-5,no,2,right,right_up,no\\nrecurrence-events,40-49,ge40,25-29,12-14,yes,3,left,right_low,yes\\nrecurrence-events,60-69,ge40,25-29,0-2,no,3,left,left_up,no\\nrecurrence-events,50-59,lt40,20-24,0-2,?,1,left,left_up,no\\nrecurrence-events,50-59,lt40,20-24,0-2,?,1,left,left_low,no\\nrecurrence-events,30-39,premeno,35-39,9-11,yes,3,left,left_low,no\\nrecurrence-events,40-49,premeno,30-34,3-5,yes,2,left,right_up,no\\nrecurrence-events,60-69,ge40,20-24,24-26,yes,3,left,left_low,yes\\nrecurrence-events,30-39,premeno,35-39,0-2,no,3,left,left_low,no\\nrecurrence-events,40-49,premeno,25-29,0-2,no,2,left,left_low,yes\\nrecurrence-events,50-59,ge40,30-34,6-8,yes,3,left,right_low,no\\nrecurrence-events,50-59,premeno,25-29,0-2,no,3,right,left_low,yes\\nrecurrence-events,40-49,premeno,15-19,0-2,yes,3,right,left_up,no\\nrecurrence-events,60-69,ge40,30-34,0-2,yes,2,right,right_up,yes\\nrecurrence-events,60-69,ge40,30-34,3-5,yes,2,left,central,yes\\nrecurrence-events,40-49,premeno,25-29,9-11,yes,3,right,left_up,no\\nrecurrence-events,30-39,premeno,25-29,6-8,yes,3,left,right_low,yes\\nrecurrence-events,60-69,ge40,10-14,6-8,yes,3,left,left_up,yes\\nrecurrence-events,50-59,premeno,35-39,15-17,yes,3,right,right_up,no\\nrecurrence-events,50-59,ge40,40-44,6-8,yes,3,left,left_low,yes\\nrecurrence-events,50-59,ge40,40-44,6-8,yes,3,left,left_low,yes\\nrecurrence-events,30-39,premeno,30-34,0-2,no,2,left,left_up,no\\nrecurrence-events,30-39,premeno,20-24,0-2,no,3,left,left_up,yes\\nrecurrence-events,60-69,ge40,20-24,0-2,no,1,right,left_up,no\\nrecurrence-events,40-49,ge40,30-34,3-5,no,3,left,left_low,no\\nrecurrence-events,50-59,ge40,30-34,3-5,no,3,left,left_low,no\\n'}"
            ]
          },
          "metadata": {},
          "execution_count": 8
        }
      ]
    },
    {
      "cell_type": "code",
      "source": [
        "rawdataset = pd.read_csv('breast-cancer.data')"
      ],
      "metadata": {
        "id": "w8shvuN45xdb",
        "outputId": "8043afeb-5563-4b05-f140-dcb0988e819a",
        "colab": {
          "base_uri": "https://localhost:8080/"
        }
      },
      "execution_count": 9,
      "outputs": [
        {
          "output_type": "stream",
          "name": "stdout",
          "text": [
            "data size = (286, 10)\n",
            "Column names = ['Class', 'age', 'menopause', 'tumor-size', 'inv-nodes', 'node-caps', 'deg-malig', 'breast', 'breast-quad', 'irradiat']\n"
          ]
        }
      ]
    },
    {
      "cell_type": "markdown",
      "source": [
        "# Exploring Data"
      ],
      "metadata": {
        "id": "1moZIQYBABNp"
      }
    },
    {
      "cell_type": "code",
      "source": [
        "print(\"Number of samples = {}\".format(rawdataset.shape))\n",
        "print(\"Attibute names = {}\".format(list(rawdataset.columns)))\n",
        "print(\"Datatype of each attribute: {}\".format(rawdataset.dtypes))"
      ],
      "metadata": {
        "id": "yIx1smoU-6j9",
        "outputId": "95e54891-5a50-4818-eb66-e75677067558",
        "colab": {
          "base_uri": "https://localhost:8080/"
        }
      },
      "execution_count": 11,
      "outputs": [
        {
          "output_type": "stream",
          "name": "stdout",
          "text": [
            "Number of samples = (286, 10)\n",
            "Attibute names = ['Class', 'age', 'menopause', 'tumor-size', 'inv-nodes', 'node-caps', 'deg-malig', 'breast', 'breast-quad', 'irradiat']\n",
            "Datatype of each attribute: Class          object\n",
            "age            object\n",
            "menopause      object\n",
            "tumor-size     object\n",
            "inv-nodes      object\n",
            "node-caps      object\n",
            "deg-malig       int64\n",
            "breast         object\n",
            "breast-quad    object\n",
            "irradiat       object\n",
            "dtype: object\n"
          ]
        }
      ]
    },
    {
      "cell_type": "code",
      "source": [
        "rawdataset.head(5)"
      ],
      "metadata": {
        "id": "F3i8qcbGCeQE",
        "outputId": "f972fc8e-c8ae-4556-8e9e-1df644ca2057",
        "colab": {
          "base_uri": "https://localhost:8080/",
          "height": 206
        }
      },
      "execution_count": 12,
      "outputs": [
        {
          "output_type": "execute_result",
          "data": {
            "text/html": [
              "<div>\n",
              "<style scoped>\n",
              "    .dataframe tbody tr th:only-of-type {\n",
              "        vertical-align: middle;\n",
              "    }\n",
              "\n",
              "    .dataframe tbody tr th {\n",
              "        vertical-align: top;\n",
              "    }\n",
              "\n",
              "    .dataframe thead th {\n",
              "        text-align: right;\n",
              "    }\n",
              "</style>\n",
              "<table border=\"1\" class=\"dataframe\">\n",
              "  <thead>\n",
              "    <tr style=\"text-align: right;\">\n",
              "      <th></th>\n",
              "      <th>Class</th>\n",
              "      <th>age</th>\n",
              "      <th>menopause</th>\n",
              "      <th>tumor-size</th>\n",
              "      <th>inv-nodes</th>\n",
              "      <th>node-caps</th>\n",
              "      <th>deg-malig</th>\n",
              "      <th>breast</th>\n",
              "      <th>breast-quad</th>\n",
              "      <th>irradiat</th>\n",
              "    </tr>\n",
              "  </thead>\n",
              "  <tbody>\n",
              "    <tr>\n",
              "      <th>0</th>\n",
              "      <td>no-recurrence-events</td>\n",
              "      <td>30-39</td>\n",
              "      <td>premeno</td>\n",
              "      <td>30-34</td>\n",
              "      <td>0-2</td>\n",
              "      <td>no</td>\n",
              "      <td>3</td>\n",
              "      <td>left</td>\n",
              "      <td>left_low</td>\n",
              "      <td>no</td>\n",
              "    </tr>\n",
              "    <tr>\n",
              "      <th>1</th>\n",
              "      <td>no-recurrence-events</td>\n",
              "      <td>40-49</td>\n",
              "      <td>premeno</td>\n",
              "      <td>20-24</td>\n",
              "      <td>0-2</td>\n",
              "      <td>no</td>\n",
              "      <td>2</td>\n",
              "      <td>right</td>\n",
              "      <td>right_up</td>\n",
              "      <td>no</td>\n",
              "    </tr>\n",
              "    <tr>\n",
              "      <th>2</th>\n",
              "      <td>no-recurrence-events</td>\n",
              "      <td>40-49</td>\n",
              "      <td>premeno</td>\n",
              "      <td>20-24</td>\n",
              "      <td>0-2</td>\n",
              "      <td>no</td>\n",
              "      <td>2</td>\n",
              "      <td>left</td>\n",
              "      <td>left_low</td>\n",
              "      <td>no</td>\n",
              "    </tr>\n",
              "    <tr>\n",
              "      <th>3</th>\n",
              "      <td>no-recurrence-events</td>\n",
              "      <td>60-69</td>\n",
              "      <td>ge40</td>\n",
              "      <td>15-19</td>\n",
              "      <td>0-2</td>\n",
              "      <td>no</td>\n",
              "      <td>2</td>\n",
              "      <td>right</td>\n",
              "      <td>left_up</td>\n",
              "      <td>no</td>\n",
              "    </tr>\n",
              "    <tr>\n",
              "      <th>4</th>\n",
              "      <td>no-recurrence-events</td>\n",
              "      <td>40-49</td>\n",
              "      <td>premeno</td>\n",
              "      <td>0-4</td>\n",
              "      <td>0-2</td>\n",
              "      <td>no</td>\n",
              "      <td>2</td>\n",
              "      <td>right</td>\n",
              "      <td>right_low</td>\n",
              "      <td>no</td>\n",
              "    </tr>\n",
              "  </tbody>\n",
              "</table>\n",
              "</div>"
            ],
            "text/plain": [
              "                  Class    age menopause  ... breast breast-quad irradiat\n",
              "0  no-recurrence-events  30-39   premeno  ...   left    left_low       no\n",
              "1  no-recurrence-events  40-49   premeno  ...  right    right_up       no\n",
              "2  no-recurrence-events  40-49   premeno  ...   left    left_low       no\n",
              "3  no-recurrence-events  60-69      ge40  ...  right     left_up       no\n",
              "4  no-recurrence-events  40-49   premeno  ...  right   right_low       no\n",
              "\n",
              "[5 rows x 10 columns]"
            ]
          },
          "metadata": {},
          "execution_count": 12
        }
      ]
    },
    {
      "cell_type": "code",
      "source": [
        "# finding unique values in each categorical attribute\n",
        "print(list(rawdataset['age'].unique()))\n",
        "print(list(rawdataset['menopause'].unique()))\n",
        "print(list(rawdataset['tumor-size'].unique()))\n",
        "print(list(rawdataset['inv-nodes'].unique()))\n",
        "print(list(rawdataset['node-caps'].unique()))\n",
        "print(list(rawdataset['breast'].unique()))\n",
        "print(list(rawdataset['breast-quad'].unique()))\n",
        "print(list(rawdataset['irradiat'].unique()))\n",
        "\n",
        "rawdataset['node-caps'] = rawdataset['node-caps'].replace(['?'],np.nan)\n",
        "rawdataset['breast-quad'] = rawdataset['breast-quad'].replace(['?'],np.nan)\n",
        "print(list(rawdataset['node-caps'].unique()))\n",
        "print(list(rawdataset['breast-quad'].unique()))"
      ],
      "metadata": {
        "id": "_rEV7Ai4F1oh",
        "outputId": "d1a4fdc7-ddea-41dc-d87d-1e747b50c7da",
        "colab": {
          "base_uri": "https://localhost:8080/"
        }
      },
      "execution_count": 26,
      "outputs": [
        {
          "output_type": "stream",
          "name": "stdout",
          "text": [
            "['30-39', '40-49', '60-69', '50-59', '70-79', '20-29']\n",
            "['premeno', 'ge40', 'lt40']\n",
            "['30-34', '20-24', '15-19', '0-4', '25-29', '50-54', '10-14', '40-44', '35-39', '5-9', '45-49']\n",
            "['0-2', '6-8', '9-11', '3-5', '15-17', '12-14', '24-26']\n",
            "['no', 'yes', nan]\n",
            "['left', 'right']\n",
            "['left_low', 'right_up', 'left_up', 'right_low', 'central', '?']\n",
            "['no', 'yes']\n",
            "['no', 'yes', nan]\n",
            "['left_low', 'right_up', 'left_up', 'right_low', 'central', nan]\n"
          ]
        }
      ]
    },
    {
      "cell_type": "code",
      "source": [
        "target = \"Class\"\n",
        "print(\" checking for missing values\")\n",
        "rawdataset.isna().sum()"
      ],
      "metadata": {
        "id": "aU-w5iYbCllh",
        "outputId": "f02177d9-0659-461c-ead0-edcc9476a0ce",
        "colab": {
          "base_uri": "https://localhost:8080/"
        }
      },
      "execution_count": 27,
      "outputs": [
        {
          "output_type": "stream",
          "name": "stdout",
          "text": [
            " checking for missing values\n"
          ]
        },
        {
          "output_type": "execute_result",
          "data": {
            "text/plain": [
              "Class          0\n",
              "age            0\n",
              "menopause      0\n",
              "tumor-size     0\n",
              "inv-nodes      0\n",
              "node-caps      8\n",
              "deg-malig      0\n",
              "breast         0\n",
              "breast-quad    1\n",
              "irradiat       0\n",
              "dtype: int64"
            ]
          },
          "metadata": {},
          "execution_count": 27
        }
      ]
    },
    {
      "cell_type": "code",
      "source": [
        ""
      ],
      "metadata": {
        "id": "TcF2IoocFlpw"
      },
      "execution_count": null,
      "outputs": []
    }
  ]
}